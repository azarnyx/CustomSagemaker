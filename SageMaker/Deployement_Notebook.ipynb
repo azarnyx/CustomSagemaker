{
 "cells": [
  {
   "cell_type": "code",
   "execution_count": null,
   "id": "a38b830b",
   "metadata": {},
   "outputs": [],
   "source": [
    "from sagemaker.predictor import RealTimePredictor, json_deserializer\n",
    "import sagemaker\n",
    "from sagemaker.pytorch import PyTorch, PyTorchModel\n",
    "from sagemaker.sklearn import SKLearn\n",
    "import boto3\n",
    "import json"
   ]
  },
  {
   "cell_type": "markdown",
   "id": "cb4f37ce",
   "metadata": {},
   "source": [
    "# Get and print execution role"
   ]
  },
  {
   "cell_type": "code",
   "execution_count": null,
   "id": "943f4166",
   "metadata": {},
   "outputs": [],
   "source": [
    "role = sagemaker.get_execution_role()"
   ]
  },
  {
   "cell_type": "code",
   "execution_count": null,
   "id": "ce56c41a",
   "metadata": {},
   "outputs": [],
   "source": [
    "role"
   ]
  },
  {
   "cell_type": "markdown",
   "id": "4ed0a0ea",
   "metadata": {},
   "source": [
    "# Fit and Deploy Model"
   ]
  },
  {
   "cell_type": "code",
   "execution_count": null,
   "id": "7d212679",
   "metadata": {},
   "outputs": [],
   "source": [
    "class Predictor(RealTimePredictor):\n",
    "    def __init__(self, endpoint_name, sagemaker_session):\n",
    "        super().__init__(endpoint_name, sagemaker_session=sagemaker_session, serializer=None, \n",
    "                         deserializer=json_deserializer, content_type='application/json')\n",
    "        \n",
    "model = PyTorch(entry_point='serve.py', name=\"twitter-fake-true-torch\", role=role,\n",
    "                framework_version='1.7',py_version='py36', source_dir='mysrc', instance_count=1, instance_type='ml.m5.4xlarge', \n",
    "                predictor_cls=Predictor)"
   ]
  },
  {
   "cell_type": "code",
   "execution_count": null,
   "id": "f90d04a5",
   "metadata": {},
   "outputs": [],
   "source": [
    "model.fit()"
   ]
  },
  {
   "cell_type": "code",
   "execution_count": null,
   "id": "dca3a0ad",
   "metadata": {},
   "outputs": [],
   "source": [
    "predictor = model.deploy(initial_instance_count=1, instance_type='ml.m5.4xlarge')"
   ]
  },
  {
   "cell_type": "markdown",
   "id": "17696a3f",
   "metadata": {},
   "source": [
    "#  Test The endpoint"
   ]
  },
  {
   "cell_type": "code",
   "execution_count": null,
   "id": "c244ac1b",
   "metadata": {},
   "outputs": [],
   "source": [
    "\n",
    "client = boto3.client('sagemaker-runtime')\n",
    "\n",
    "response = client.invoke_endpoint(\n",
    "    EndpointName=predictor.endpoint_name,\n",
    "    Body=json.dumps({\"text\": \"preved medved\"}),\n",
    "    ContentType='application/json',\n",
    "    Accept=\"application/json\"\n",
    ")"
   ]
  },
  {
   "cell_type": "code",
   "execution_count": null,
   "id": "ab181c90",
   "metadata": {},
   "outputs": [],
   "source": [
    "result = response['Body'].read().decode()"
   ]
  },
  {
   "cell_type": "code",
   "execution_count": null,
   "id": "507278d9",
   "metadata": {},
   "outputs": [],
   "source": [
    "print(json.loads(json.loads(result))['proba'])"
   ]
  }
 ],
 "metadata": {
  "kernelspec": {
   "display_name": "conda_pytorch_latest_p36",
   "language": "python",
   "name": "conda_pytorch_latest_p36"
  },
  "language_info": {
   "codemirror_mode": {
    "name": "ipython",
    "version": 3
   },
   "file_extension": ".py",
   "mimetype": "text/x-python",
   "name": "python",
   "nbconvert_exporter": "python",
   "pygments_lexer": "ipython3",
   "version": "3.6.13"
  },
  "toc-autonumbering": true,
  "toc-showcode": false
 },
 "nbformat": 4,
 "nbformat_minor": 5
}
